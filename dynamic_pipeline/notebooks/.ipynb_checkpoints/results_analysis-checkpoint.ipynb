{
 "cells": [
  {
   "cell_type": "code",
   "execution_count": 1,
   "id": "exceptional-melissa",
   "metadata": {},
   "outputs": [],
   "source": [
    "import pandas as pd\n",
    "from matplotlib import pyplot as plt"
   ]
  },
  {
   "cell_type": "code",
   "execution_count": 2,
   "id": "developing-baker",
   "metadata": {},
   "outputs": [],
   "source": [
    "RESULTS_PATH = \"../results/results.csv\""
   ]
  },
  {
   "cell_type": "code",
   "execution_count": 3,
   "id": "advisory-software",
   "metadata": {},
   "outputs": [],
   "source": [
    "results = pd.read_csv(RESULTS_PATH)"
   ]
  },
  {
   "cell_type": "code",
   "execution_count": 4,
   "id": "included-surveillance",
   "metadata": {},
   "outputs": [
    {
     "data": {
      "text/html": [
       "<div>\n",
       "<style scoped>\n",
       "    .dataframe tbody tr th:only-of-type {\n",
       "        vertical-align: middle;\n",
       "    }\n",
       "\n",
       "    .dataframe tbody tr th {\n",
       "        vertical-align: top;\n",
       "    }\n",
       "\n",
       "    .dataframe thead th {\n",
       "        text-align: right;\n",
       "    }\n",
       "</style>\n",
       "<table border=\"1\" class=\"dataframe\">\n",
       "  <thead>\n",
       "    <tr style=\"text-align: right;\">\n",
       "      <th></th>\n",
       "      <th>Unnamed: 0</th>\n",
       "      <th>N</th>\n",
       "      <th>M</th>\n",
       "      <th>params</th>\n",
       "      <th>score</th>\n",
       "    </tr>\n",
       "  </thead>\n",
       "  <tbody>\n",
       "    <tr>\n",
       "      <th>0</th>\n",
       "      <td>0</td>\n",
       "      <td>500</td>\n",
       "      <td>50</td>\n",
       "      <td>{'model': LogisticRegression(), 'svd': Truncat...</td>\n",
       "      <td>0.160577</td>\n",
       "    </tr>\n",
       "    <tr>\n",
       "      <th>1</th>\n",
       "      <td>1</td>\n",
       "      <td>500</td>\n",
       "      <td>50</td>\n",
       "      <td>{'model': LogisticRegression(), 'svd': Truncat...</td>\n",
       "      <td>0.159963</td>\n",
       "    </tr>\n",
       "    <tr>\n",
       "      <th>2</th>\n",
       "      <td>2</td>\n",
       "      <td>500</td>\n",
       "      <td>50</td>\n",
       "      <td>{'model': LogisticRegression(), 'svd': Truncat...</td>\n",
       "      <td>0.166104</td>\n",
       "    </tr>\n",
       "    <tr>\n",
       "      <th>3</th>\n",
       "      <td>3</td>\n",
       "      <td>500</td>\n",
       "      <td>100</td>\n",
       "      <td>{'model': LogisticRegression(), 'svd': Truncat...</td>\n",
       "      <td>0.193430</td>\n",
       "    </tr>\n",
       "    <tr>\n",
       "      <th>4</th>\n",
       "      <td>4</td>\n",
       "      <td>500</td>\n",
       "      <td>100</td>\n",
       "      <td>{'model': LogisticRegression(), 'svd': Truncat...</td>\n",
       "      <td>0.190973</td>\n",
       "    </tr>\n",
       "  </tbody>\n",
       "</table>\n",
       "</div>"
      ],
      "text/plain": [
       "   Unnamed: 0    N    M                                             params  \\\n",
       "0           0  500   50  {'model': LogisticRegression(), 'svd': Truncat...   \n",
       "1           1  500   50  {'model': LogisticRegression(), 'svd': Truncat...   \n",
       "2           2  500   50  {'model': LogisticRegression(), 'svd': Truncat...   \n",
       "3           3  500  100  {'model': LogisticRegression(), 'svd': Truncat...   \n",
       "4           4  500  100  {'model': LogisticRegression(), 'svd': Truncat...   \n",
       "\n",
       "      score  \n",
       "0  0.160577  \n",
       "1  0.159963  \n",
       "2  0.166104  \n",
       "3  0.193430  \n",
       "4  0.190973  "
      ]
     },
     "execution_count": 4,
     "metadata": {},
     "output_type": "execute_result"
    }
   ],
   "source": [
    "results.head()"
   ]
  },
  {
   "cell_type": "code",
   "execution_count": 5,
   "id": "severe-disclosure",
   "metadata": {},
   "outputs": [],
   "source": [
    "results.sort_values(\"score\", ascending=False, inplace=True)"
   ]
  },
  {
   "cell_type": "code",
   "execution_count": 6,
   "id": "intellectual-mirror",
   "metadata": {},
   "outputs": [
    {
     "data": {
      "text/html": [
       "<div>\n",
       "<style scoped>\n",
       "    .dataframe tbody tr th:only-of-type {\n",
       "        vertical-align: middle;\n",
       "    }\n",
       "\n",
       "    .dataframe tbody tr th {\n",
       "        vertical-align: top;\n",
       "    }\n",
       "\n",
       "    .dataframe thead th {\n",
       "        text-align: right;\n",
       "    }\n",
       "</style>\n",
       "<table border=\"1\" class=\"dataframe\">\n",
       "  <thead>\n",
       "    <tr style=\"text-align: right;\">\n",
       "      <th></th>\n",
       "      <th>Unnamed: 0</th>\n",
       "      <th>N</th>\n",
       "      <th>M</th>\n",
       "      <th>params</th>\n",
       "      <th>score</th>\n",
       "    </tr>\n",
       "  </thead>\n",
       "  <tbody>\n",
       "    <tr>\n",
       "      <th>82</th>\n",
       "      <td>82</td>\n",
       "      <td>10000</td>\n",
       "      <td>300</td>\n",
       "      <td>{'model': LogisticRegression(), 'svd': Truncat...</td>\n",
       "      <td>0.545901</td>\n",
       "    </tr>\n",
       "    <tr>\n",
       "      <th>83</th>\n",
       "      <td>83</td>\n",
       "      <td>10000</td>\n",
       "      <td>300</td>\n",
       "      <td>{'model': LogisticRegression(), 'svd': Truncat...</td>\n",
       "      <td>0.544980</td>\n",
       "    </tr>\n",
       "    <tr>\n",
       "      <th>81</th>\n",
       "      <td>81</td>\n",
       "      <td>10000</td>\n",
       "      <td>300</td>\n",
       "      <td>{'model': LogisticRegression(), 'svd': Truncat...</td>\n",
       "      <td>0.537304</td>\n",
       "    </tr>\n",
       "    <tr>\n",
       "      <th>80</th>\n",
       "      <td>80</td>\n",
       "      <td>10000</td>\n",
       "      <td>200</td>\n",
       "      <td>{'model': LogisticRegression(), 'svd': Truncat...</td>\n",
       "      <td>0.529014</td>\n",
       "    </tr>\n",
       "    <tr>\n",
       "      <th>79</th>\n",
       "      <td>79</td>\n",
       "      <td>10000</td>\n",
       "      <td>200</td>\n",
       "      <td>{'model': LogisticRegression(), 'svd': Truncat...</td>\n",
       "      <td>0.525944</td>\n",
       "    </tr>\n",
       "  </tbody>\n",
       "</table>\n",
       "</div>"
      ],
      "text/plain": [
       "    Unnamed: 0      N    M                                             params  \\\n",
       "82          82  10000  300  {'model': LogisticRegression(), 'svd': Truncat...   \n",
       "83          83  10000  300  {'model': LogisticRegression(), 'svd': Truncat...   \n",
       "81          81  10000  300  {'model': LogisticRegression(), 'svd': Truncat...   \n",
       "80          80  10000  200  {'model': LogisticRegression(), 'svd': Truncat...   \n",
       "79          79  10000  200  {'model': LogisticRegression(), 'svd': Truncat...   \n",
       "\n",
       "       score  \n",
       "82  0.545901  \n",
       "83  0.544980  \n",
       "81  0.537304  \n",
       "80  0.529014  \n",
       "79  0.525944  "
      ]
     },
     "execution_count": 6,
     "metadata": {},
     "output_type": "execute_result"
    }
   ],
   "source": [
    "results.head()"
   ]
  },
  {
   "cell_type": "code",
   "execution_count": 14,
   "id": "molecular-sodium",
   "metadata": {},
   "outputs": [
    {
     "data": {
      "text/plain": [
       "Text(0.5, 1.0, 'N/M vs score')"
      ]
     },
     "execution_count": 14,
     "metadata": {},
     "output_type": "execute_result"
    },
    {
     "data": {
      "image/png": "[encoded data removed]",
      "text/plain": [
       "<Figure size 432x288 with 1 Axes>"
      ]
     },
     "metadata": {
      "needs_background": "light"
     },
     "output_type": "display_data"
    }
   ],
   "source": [
    "plt.figure(figsize=(6, 4))\n",
    "plt.scatter(results['N'] / results['M'], results['score'])\n",
    "plt.xlabel(\"N/M\")\n",
    "plt.ylabel(\"score\")\n",
    "plt.grid()\n",
    "plt.title(\"N/M vs score\")"
   ]
  },
  {
   "cell_type": "code",
   "execution_count": 17,
   "id": "incorporated-bridges",
   "metadata": {},
   "outputs": [
    {
     "data": {
      "image/png": "[encoded data removed]",
      "text/plain": [
       "<Figure size 432x288 with 1 Axes>"
      ]
     },
     "metadata": {
      "needs_background": "light"
     },
     "output_type": "display_data"
    }
   ],
   "source": [
    "results.plot.scatter(x='N', y='score', title='N vs score')\n",
    "plt.grid()"
   ]
  },
  {
   "cell_type": "code",
   "execution_count": 22,
   "id": "waiting-choice",
   "metadata": {},
   "outputs": [
    {
     "data": {
      "image/png": "[encoded data removed]",
      "text/plain": [
       "<Figure size 432x288 with 1 Axes>"
      ]
     },
     "metadata": {
      "needs_background": "light"
     },
     "output_type": "display_data"
    }
   ],
   "source": [
    "results.query(\"N==10000\").plot.scatter(x='M', y='score', title='M vs score for N = 10000')\n",
    "plt.grid()"
   ]
  }
 ],
 "metadata": {
  "kernelspec": {
   "display_name": "Python 3",
   "language": "python",
   "name": "python3"
  },
  "language_info": {
   "codemirror_mode": {
    "name": "ipython",
    "version": 3
   },
   "file_extension": ".py",
   "mimetype": "text/x-python",
   "name": "python",
   "nbconvert_exporter": "python",
   "pygments_lexer": "ipython3",
   "version": "3.8.3"
  }
 },
 "nbformat": 4,
 "nbformat_minor": 5
}
